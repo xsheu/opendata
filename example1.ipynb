{
 "cells": [
  {
   "cell_type": "markdown",
   "id": "a6d58d29",
   "metadata": {},
   "source": [
    "#Example Advertising click"
   ]
  },
  {
   "cell_type": "markdown",
   "id": "88bac967",
   "metadata": {},
   "source": [
    "引用程式庫"
   ]
  },
  {
   "cell_type": "code",
   "execution_count": null,
   "id": "fed9e264",
   "metadata": {},
   "outputs": [],
   "source": [
    "import pandas as pd\n",
    "import numpy as np\n",
    "import seaborn as sns\n",
    "import matplotlib.pyplot as plt\n",
    "import sklearn"
   ]
  },
  {
   "cell_type": "markdown",
   "id": "2be43bb7",
   "metadata": {},
   "source": [
    "輸入資料"
   ]
  },
  {
   "cell_type": "code",
   "execution_count": null,
   "id": "b0e1d37b",
   "metadata": {},
   "outputs": [],
   "source": [
    "data =  pd.read_csv('advertising.csv')"
   ]
  }
 ],
 "metadata": {
  "kernelspec": {
   "display_name": "Python 3 (ipykernel)",
   "language": "python",
   "name": "python3"
  },
  "language_info": {
   "codemirror_mode": {
    "name": "ipython",
    "version": 3
   },
   "file_extension": ".py",
   "mimetype": "text/x-python",
   "name": "python",
   "nbconvert_exporter": "python",
   "pygments_lexer": "ipython3",
   "version": "3.11.3"
  }
 },
 "nbformat": 4,
 "nbformat_minor": 5
}
